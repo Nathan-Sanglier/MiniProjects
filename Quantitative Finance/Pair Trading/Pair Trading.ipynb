{
 "cells": [
  {
   "cell_type": "markdown",
   "metadata": {},
   "source": [
    "<CENTER>\n",
    "</br>\n",
    "<p><font size=\"5\"> Nathan Sanglier </span></p>\n",
    "<p><font size=\"4\">  Trading Strategies </font></p>\n",
    "<p></p>\n",
    "<p><font size=\"5\"> Pair Trading using Cointegration </font></p>\n",
    "</p></br>\n",
    "</p>\n",
    "</CENTER>\n",
    "\n",
    "----------------------------"
   ]
  },
  {
   "cell_type": "markdown",
   "metadata": {},
   "source": [
    "## <center>  <span style=\"color:#FF0000\"> NOT FINISHED YET </span> </center>"
   ]
  },
  {
   "cell_type": "markdown",
   "metadata": {},
   "source": [
    "##  <span style=\"color:#00B8DE\"> 0 - Introduction </span>"
   ]
  },
  {
   "cell_type": "markdown",
   "metadata": {},
   "source": [
    "> The goal of this notebook is to create an algorithm of pair trading based on cointegration. If you want to see the plots and LaTeX equations appear well, please download and run the notebook."
   ]
  },
  {
   "cell_type": "code",
   "execution_count": null,
   "metadata": {},
   "outputs": [],
   "source": [
    "import yfinance as yf\n",
    "import pandas as pd\n",
    "from statsmodels.tsa.stattools import coint\n",
    "import matplotlib.pyplot as plt"
   ]
  },
  {
   "cell_type": "code",
   "execution_count": null,
   "metadata": {},
   "outputs": [],
   "source": [
    "df = pd.read_csv('data_sp500.csv')\n",
    "df.head()"
   ]
  },
  {
   "cell_type": "code",
   "execution_count": null,
   "metadata": {},
   "outputs": [],
   "source": [
    "df.info()"
   ]
  },
  {
   "cell_type": "code",
   "execution_count": null,
   "metadata": {},
   "outputs": [],
   "source": [
    "df['GICS Sector'].value_counts()"
   ]
  },
  {
   "cell_type": "code",
   "execution_count": null,
   "metadata": {},
   "outputs": [],
   "source": [
    "df.replace(\n",
    "    {\n",
    "    'Symbol': {'BF.B': 'BF-B',\n",
    "               'BRK.B': 'BRK-B'\n",
    "               }\n",
    "    },\n",
    "    inplace=True\n",
    ")\n",
    "\n",
    "df = df[~df['Symbol'].isin(['VLTO', 'KVUE'])]"
   ]
  },
  {
   "cell_type": "code",
   "execution_count": null,
   "metadata": {},
   "outputs": [],
   "source": [
    "data = yf.download(df[\"Symbol\"].tolist(), start=\"2010-01-01\", end=\"2022-12-31\", interval = \"1d\")['Adj Close']"
   ]
  },
  {
   "cell_type": "code",
   "execution_count": null,
   "metadata": {},
   "outputs": [],
   "source": [
    "df[]"
   ]
  },
  {
   "cell_type": "code",
   "execution_count": null,
   "metadata": {},
   "outputs": [],
   "source": [
    "list_tickers = df[df[\"GICS Sector\"] == \"Materials\"][\"Symbol\"]\n",
    "series_energy = data[list_tickers]\n",
    "\n",
    "nan_count = series_energy.isna().sum()\n",
    "nan_count = nan_count[nan_count > 0]\n",
    "nan_count.sort_values(ascending=False)\n",
    "\n",
    "to_consider = series_energy.drop(columns=nan_count.index)"
   ]
  },
  {
   "cell_type": "code",
   "execution_count": null,
   "metadata": {},
   "outputs": [],
   "source": [
    "L_coints = []"
   ]
  },
  {
   "cell_type": "code",
   "execution_count": null,
   "metadata": {},
   "outputs": [],
   "source": [
    "for i in range(len(to_consider.columns)-1):\n",
    "\n",
    "    for j in range(i+1, len(to_consider.columns)):\n",
    "\n",
    "        res = coint(to_consider.iloc[:, i], to_consider.iloc[:, j])\n",
    "\n",
    "        t_stat = res[0]\n",
    "        crit_val_t_stat = res[2][1]\n",
    "\n",
    "        if t_stat < crit_val_t_stat: # we reject null hypothesis (H0 : there is no cointegration)\n",
    "            L_coints.append((i, j))"
   ]
  },
  {
   "cell_type": "code",
   "execution_count": null,
   "metadata": {},
   "outputs": [],
   "source": [
    "len(L_coints)"
   ]
  },
  {
   "cell_type": "code",
   "execution_count": null,
   "metadata": {},
   "outputs": [],
   "source": [
    "(len(to_consider.columns)**2 - len(to_consider.columns))/2"
   ]
  },
  {
   "cell_type": "code",
   "execution_count": null,
   "metadata": {},
   "outputs": [],
   "source": [
    "L_coints"
   ]
  },
  {
   "cell_type": "code",
   "execution_count": null,
   "metadata": {},
   "outputs": [],
   "source": [
    "plt.plot(series_energy.iloc[:, 1])\n",
    "plt.plot(series_energy.iloc[:, 17])"
   ]
  },
  {
   "cell_type": "code",
   "execution_count": null,
   "metadata": {},
   "outputs": [],
   "source": []
  }
 ],
 "metadata": {
  "@webio": {
   "lastCommId": null,
   "lastKernelId": null
  },
  "kernelspec": {
   "display_name": "base",
   "language": "python",
   "name": "python3"
  },
  "language_info": {
   "codemirror_mode": {
    "name": "ipython",
    "version": 3
   },
   "file_extension": ".py",
   "mimetype": "text/x-python",
   "name": "python",
   "nbconvert_exporter": "python",
   "pygments_lexer": "ipython3",
   "version": "3.11.4"
  }
 },
 "nbformat": 4,
 "nbformat_minor": 2
}
